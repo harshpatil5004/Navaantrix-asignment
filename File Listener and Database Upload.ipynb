{
 "cells": [
  {
   "cell_type": "code",
   "execution_count": 1,
   "id": "e0775bf3-6071-4bf0-b1d2-c4abbb9a474a",
   "metadata": {},
   "outputs": [
    {
     "name": "stdout",
     "output_type": "stream",
     "text": [
      "Requirement already satisfied: watchdog in c:\\users\\harsh\\anaconda3\\harsh2\\lib\\site-packages (4.0.1)\n",
      "Requirement already satisfied: pandas in c:\\users\\harsh\\anaconda3\\harsh2\\lib\\site-packages (2.2.2)\n",
      "Requirement already satisfied: numpy>=1.26.0 in c:\\users\\harsh\\anaconda3\\harsh2\\lib\\site-packages (from pandas) (1.26.4)\n",
      "Requirement already satisfied: python-dateutil>=2.8.2 in c:\\users\\harsh\\anaconda3\\harsh2\\lib\\site-packages (from pandas) (2.9.0.post0)\n",
      "Requirement already satisfied: pytz>=2020.1 in c:\\users\\harsh\\anaconda3\\harsh2\\lib\\site-packages (from pandas) (2024.1)\n",
      "Requirement already satisfied: tzdata>=2022.7 in c:\\users\\harsh\\anaconda3\\harsh2\\lib\\site-packages (from pandas) (2023.3)\n",
      "Requirement already satisfied: six>=1.5 in c:\\users\\harsh\\anaconda3\\harsh2\\lib\\site-packages (from python-dateutil>=2.8.2->pandas) (1.16.0)\n",
      "Note: you may need to restart the kernel to use updated packages.\n"
     ]
    }
   ],
   "source": [
    "pip install watchdog pandas\n"
   ]
  },
  {
   "cell_type": "code",
   "execution_count": null,
   "id": "b7229893-0ca8-4877-84eb-19a024f24b21",
   "metadata": {},
   "outputs": [
    {
     "name": "stdout",
     "output_type": "stream",
     "text": [
      "[✓] Folder already exists: watch_folder\n",
      "[✓] Database and table ready.\n",
      "👀 Watching folder: watch_folder for new CSV files...\n"
     ]
    }
   ],
   "source": [
    "import os\n",
    "import time\n",
    "import sqlite3\n",
    "import pandas as pd\n",
    "from watchdog.observers import Observer\n",
    "from watchdog.events import FileSystemEventHandler\n",
    "\n",
    "# Folder to watch\n",
    "WATCH_FOLDER = \"watch_folder\"\n",
    "\n",
    "# Step 1: Create the watch_folder if it doesn't exist\n",
    "def create_watch_folder():\n",
    "    if not os.path.exists(WATCH_FOLDER):\n",
    "        os.makedirs(WATCH_FOLDER)\n",
    "        print(f\"[✓] Created folder: {WATCH_FOLDER}\")\n",
    "    else:\n",
    "        print(f\"[✓] Folder already exists: {WATCH_FOLDER}\")\n",
    "\n",
    "# Step 2: Create database and table\n",
    "def create_database():\n",
    "    conn = sqlite3.connect(\"sales.db\")\n",
    "    conn.execute('''\n",
    "        CREATE TABLE IF NOT EXISTS sales (\n",
    "            OrderID INTEGER,\n",
    "            CustomerName TEXT,\n",
    "            Product TEXT,\n",
    "            Quantity INTEGER,\n",
    "            Price REAL,\n",
    "            OrderDate TEXT\n",
    "        )\n",
    "    ''')\n",
    "    conn.commit()\n",
    "    conn.close()\n",
    "    print(\"[✓] Database and table ready.\")\n",
    "\n",
    "# Step 3: Insert CSV data into database\n",
    "def insert_data_from_csv(file_path):\n",
    "    try:\n",
    "        df = pd.read_csv(file_path)\n",
    "        conn = sqlite3.connect(\"sales.db\")\n",
    "        df.to_sql(\"sales\", conn, if_exists=\"append\", index=False)\n",
    "        conn.close()\n",
    "        print(f\"[✓] Data inserted from: {file_path}\")\n",
    "    except Exception as e:\n",
    "        print(f\"[X] Error reading file: {e}\")\n",
    "\n",
    "# Step 4: Handle new file creation\n",
    "class WatchHandler(FileSystemEventHandler):\n",
    "    def on_created(self, event):\n",
    "        if event.src_path.endswith(\".csv\"):\n",
    "            print(f\"[+] New CSV detected: {event.src_path}\")\n",
    "            time.sleep(1)  # Wait a moment to let file finish copying\n",
    "            insert_data_from_csv(event.src_path)\n",
    "\n",
    "# Step 5: Start watching the folder\n",
    "def start_watching():\n",
    "    observer = Observer()\n",
    "    event_handler = WatchHandler()\n",
    "    observer.schedule(event_handler, WATCH_FOLDER, recursive=False)\n",
    "    observer.start()\n",
    "    print(f\"👀 Watching folder: {WATCH_FOLDER} for new CSV files...\")\n",
    "\n",
    "    try:\n",
    "        while True:\n",
    "            time.sleep(1)  # Keeps the script running\n",
    "    except KeyboardInterrupt:\n",
    "        observer.stop()\n",
    "        print(\"\\n[!] Stopped watching.\")\n",
    "    observer.join()\n",
    "\n",
    "# Run the steps\n",
    "if __name__ == \"__main__\":\n",
    "    create_watch_folder()\n",
    "    create_database()\n",
    "    start_watching()\n"
   ]
  },
  {
   "cell_type": "code",
   "execution_count": null,
   "id": "4bc7b213-fd2e-4202-a569-f67e496dad7f",
   "metadata": {},
   "outputs": [],
   "source": [
    "python file_listener.py"
   ]
  },
  {
   "cell_type": "code",
   "execution_count": null,
   "id": "3ce0436c-0547-4d1e-896a-cd2545332ad3",
   "metadata": {},
   "outputs": [],
   "source": [
    "OrderID,CustomerName,Product,Quantity,Price,OrderDate\n",
    "1001,Alice,Notebook,2,200,2023-01-12\n",
    "1002,Bob,Pen,5,25,2023-01-13\n",
    "1003,Charlie,Marker,3,30,2023-01-13\n",
    "1004,David,Notebook,1,200,2023-01-14\n",
    "1005,Eva,Pen,10,25,2023-01-15\n"
   ]
  },
  {
   "cell_type": "code",
   "execution_count": null,
   "id": "242d567f-c460-4c97-9d51-8ae6e1db952d",
   "metadata": {},
   "outputs": [],
   "source": []
  }
 ],
 "metadata": {
  "kernelspec": {
   "display_name": "Python 3 (ipykernel)",
   "language": "python",
   "name": "python3"
  },
  "language_info": {
   "codemirror_mode": {
    "name": "ipython",
    "version": 3
   },
   "file_extension": ".py",
   "mimetype": "text/x-python",
   "name": "python",
   "nbconvert_exporter": "python",
   "pygments_lexer": "ipython3",
   "version": "3.12.4"
  }
 },
 "nbformat": 4,
 "nbformat_minor": 5
}
